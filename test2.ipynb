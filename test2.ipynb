{
 "cells": [
  {
   "cell_type": "code",
   "execution_count": 5,
   "metadata": {},
   "outputs": [],
   "source": [
    "# General Imports\n",
    "import numpy as np\n",
    "import os\n",
    "import time\n",
    "import tensorflow as tf\n",
    "from tensorflow import keras\n",
    "from keras.models import load_model\n",
    "from tensorflow.keras.preprocessing.image import ImageDataGenerator, img_to_array, load_img, array_to_img\n",
    "from keras.applications.vgg16 import VGG16, preprocess_input, decode_predictions\n",
    "\n",
    "# Imports for Display\n",
    "from IPython.display import Image, display\n",
    "import matplotlib.pyplot as plt\n",
    "import matplotlib.cm as cm\n",
    "import cv2\n",
    "import imageio"
   ]
  },
  {
   "cell_type": "code",
   "execution_count": 6,
   "metadata": {},
   "outputs": [],
   "source": [
    "model = load_model('AutismImageModel.h5')"
   ]
  },
  {
   "cell_type": "code",
   "execution_count": 21,
   "metadata": {},
   "outputs": [],
   "source": [
    "def read_and_process_image(list_of_images, nrows, ncolumns):\n",
    "    X = []\n",
    "    y = []\n",
    "    for image in list_of_images:\n",
    "        try:\n",
    "            img = imageio.imread(image)\n",
    "            if img is None:\n",
    "                print(\"Error: Failed to load image:\", image)\n",
    "                continue\n",
    "            resized_img = cv2.resize(img, (nrows, ncolumns), interpolation=cv2.INTER_CUBIC)\n",
    "            X.append(resized_img)\n",
    "            if 'Non_Autistic' in image:\n",
    "                y.append(0)\n",
    "            else:\n",
    "                y.append(1)\n",
    "        except Exception as e:\n",
    "            print(\"Error processing image:\", image, e)\n",
    "    return X, y"
   ]
  },
  {
   "cell_type": "code",
   "execution_count": 7,
   "metadata": {},
   "outputs": [],
   "source": [
    "def process_image(image, nrows, ncolumns):\n",
    "    img = imageio.imread(image)\n",
    "    resized_img = cv2.resize(img, (nrows, ncolumns), interpolation=cv2.INTER_CUBIC)\n",
    "    if resized_img.shape[-1] != 3:\n",
    "        # Convert to RGB if it's in a different format (e.g., BGR)\n",
    "        resized_img = cv2.cvtColor(resized_img, cv2.COLOR_BGR2RGB)\n",
    "    return resized_img"
   ]
  },
  {
   "cell_type": "code",
   "execution_count": 8,
   "metadata": {},
   "outputs": [
    {
     "name": "stderr",
     "output_type": "stream",
     "text": [
      "C:\\Users\\agney\\AppData\\Local\\Temp\\ipykernel_27168\\3834271432.py:2: DeprecationWarning: Starting with ImageIO v3 the behavior of this function will switch to that of iio.v3.imread. To keep the current behavior (and make this warning disappear) use `import imageio.v2 as imageio` or call `imageio.v2.imread` directly.\n",
      "  img = imageio.imread(image)\n"
     ]
    }
   ],
   "source": [
    "nrows = 150\n",
    "ncolumns  = 150\n",
    "channels = 3\n",
    "\n",
    "image_path = 'uploads/captured_photo.jpg'\n",
    "\n",
    "X_test = process_image(image_path,nrows,ncolumns)\n",
    "X_test = np.expand_dims(X_test, axis=0)"
   ]
  },
  {
   "cell_type": "code",
   "execution_count": 9,
   "metadata": {},
   "outputs": [
    {
     "name": "stdout",
     "output_type": "stream",
     "text": [
      "1/1 [==============================] - 0s 428ms/step\n",
      "[[1.]]\n"
     ]
    }
   ],
   "source": [
    "predictions = model.predict(X_test)\n",
    "print(predictions)"
   ]
  },
  {
   "cell_type": "code",
   "execution_count": null,
   "metadata": {},
   "outputs": [],
   "source": []
  }
 ],
 "metadata": {
  "kernelspec": {
   "display_name": "Python 3",
   "language": "python",
   "name": "python3"
  },
  "language_info": {
   "codemirror_mode": {
    "name": "ipython",
    "version": 3
   },
   "file_extension": ".py",
   "mimetype": "text/x-python",
   "name": "python",
   "nbconvert_exporter": "python",
   "pygments_lexer": "ipython3",
   "version": "3.10.6"
  }
 },
 "nbformat": 4,
 "nbformat_minor": 2
}
